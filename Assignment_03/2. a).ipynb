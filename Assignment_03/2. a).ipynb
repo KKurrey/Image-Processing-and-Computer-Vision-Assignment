{
 "cells": [
  {
   "cell_type": "markdown",
   "metadata": {},
   "source": [
    "###  (a) Write python from scratch for computing 2D DFT{X(k,l)} of the following 2D array\n",
    "\n",
    " (i) x(m,n) = np.array([[1, 0],[2, 1]])\n",
    " \n",
    " (ii) x(m,n) = np.array([[1,2, 3,4], [5, 6, 7, 8], [9,10,11,12], [13,14,15,16]])"
   ]
  },
  {
   "cell_type": "code",
   "execution_count": 1,
   "metadata": {},
   "outputs": [],
   "source": [
    "import numpy as np\n",
    "import cmath\n",
    "\n",
    "def DFT2D(matrix):\n",
    "    x, y = matrix.shape\n",
    "    dft2d = np.zeros((x, y),dtype=complex)\n",
    "    for u in range(x):\n",
    "        for v in range(y):\n",
    "            sum_matrix = 0\n",
    "            for k in range(x):\n",
    "                for l in range(y):\n",
    "                    w = cmath.exp(- 2j * np.pi * ((u * k) / x + (v * l) / y))\n",
    "                    sum_matrix +=  w * matrix[k,l]\n",
    "            \n",
    "            dft2d[u,v] = sum_matrix\n",
    "                \n",
    "    return dft2d"
   ]
  },
  {
   "cell_type": "code",
   "execution_count": 2,
   "metadata": {},
   "outputs": [],
   "source": [
    "# x(m,n) = np.array([[1, 0],[2, 1]])\n",
    "\n",
    "input1 = np.array([[1, 0],[2, 1]])  \n",
    "output1 = DFT2D(input1)\n"
   ]
  },
  {
   "cell_type": "code",
   "execution_count": 3,
   "metadata": {},
   "outputs": [],
   "source": [
    "for i in range(2):\n",
    "    for j in range(2):\n",
    "        output1[i][j] = (round(output1[i][j].real, 2) + round(output1[i][j].imag, 2) * 1j)"
   ]
  },
  {
   "cell_type": "code",
   "execution_count": 4,
   "metadata": {},
   "outputs": [
    {
     "data": {
      "text/plain": [
       "array([[ 4.+0.j,  2.+0.j],\n",
       "       [-2.+0.j,  0.+0.j]])"
      ]
     },
     "execution_count": 4,
     "metadata": {},
     "output_type": "execute_result"
    }
   ],
   "source": [
    "output1"
   ]
  },
  {
   "cell_type": "code",
   "execution_count": 5,
   "metadata": {},
   "outputs": [],
   "source": [
    "# x(m,n) = np.array([[1, 2, 3, 4], [5, 6, 7, 8], [9, 10, 11, 12], [13, 14, 15, 16]])\n",
    "\n",
    "input2 = np.array([[1, 2, 3, 4], [5, 6, 7, 8], [9, 10, 11, 12], [13, 14, 15, 16]])\n",
    "output2 = DFT2D(input2)\n"
   ]
  },
  {
   "cell_type": "code",
   "execution_count": 6,
   "metadata": {},
   "outputs": [],
   "source": [
    "for i in range(4):\n",
    "    for j in range(4):\n",
    "        output2[i][j] = (round(output2[i][j].real, 2) + round(output2[i][j].imag, 2) * 1j)"
   ]
  },
  {
   "cell_type": "code",
   "execution_count": 7,
   "metadata": {},
   "outputs": [
    {
     "data": {
      "text/plain": [
       "array([[136. +0.j,  -8. +8.j,  -8. +0.j,  -8. -8.j],\n",
       "       [-32.+32.j,   0. +0.j,   0. +0.j,   0. +0.j],\n",
       "       [-32. +0.j,   0. +0.j,   0. +0.j,   0. +0.j],\n",
       "       [-32.-32.j,   0. +0.j,   0. +0.j,   0. +0.j]])"
      ]
     },
     "execution_count": 7,
     "metadata": {},
     "output_type": "execute_result"
    }
   ],
   "source": [
    "output2"
   ]
  },
  {
   "cell_type": "code",
   "execution_count": null,
   "metadata": {},
   "outputs": [],
   "source": []
  },
  {
   "cell_type": "code",
   "execution_count": null,
   "metadata": {},
   "outputs": [],
   "source": []
  },
  {
   "cell_type": "code",
   "execution_count": null,
   "metadata": {},
   "outputs": [],
   "source": []
  }
 ],
 "metadata": {
  "kernelspec": {
   "display_name": "Python 3",
   "language": "python",
   "name": "python3"
  },
  "language_info": {
   "codemirror_mode": {
    "name": "ipython",
    "version": 3
   },
   "file_extension": ".py",
   "mimetype": "text/x-python",
   "name": "python",
   "nbconvert_exporter": "python",
   "pygments_lexer": "ipython3",
   "version": "3.9.0"
  }
 },
 "nbformat": 4,
 "nbformat_minor": 4
}
