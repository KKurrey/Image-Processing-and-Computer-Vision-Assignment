{
 "cells": [
  {
   "cell_type": "code",
   "execution_count": 1,
   "metadata": {},
   "outputs": [
    {
     "name": "stdout",
     "output_type": "stream",
     "text": [
      "Shape of lena image is:  (512, 512)\n",
      "Shape of kernel is:  (3, 3)\n"
     ]
    }
   ],
   "source": [
    "import cv2\n",
    "import numpy as np\n",
    "from numpy import array\n",
    "import matplotlib.image as mpimg\n",
    "\n",
    "\n",
    "img = cv2.imread('greyscale_lenna.jpg')\n",
    "gray_img = cv2.cvtColor(img, cv2.COLOR_BGR2GRAY)\n",
    "\n",
    "ar = array(gray_img)\n",
    "print('Shape of lena image is: ', ar.shape)\n",
    "\n",
    "kernel = np.array([[1, 2, 1],[2, 4, 2],[1, 2, 1]])/16\n",
    "print('Shape of kernel is: ', kernel.shape)\n"
   ]
  },
  {
   "cell_type": "code",
   "execution_count": 2,
   "metadata": {},
   "outputs": [
    {
     "name": "stdout",
     "output_type": "stream",
     "text": [
      "Dimension of output signal is:  514 514\n"
     ]
    }
   ],
   "source": [
    "#Calculating final output size\n",
    "\n",
    "#Number of rows and columns in image matrix\n",
    "i_row_num, i_col_num = ar.shape\n",
    "\n",
    "#Number of rows and columns in kernel matrix\n",
    "k_row_num, k_col_num = kernel.shape\n",
    "\n",
    "#Calculating dimensions of output matrix\n",
    "output_row_num = i_row_num + k_row_num - 1\n",
    "output_col_num = i_col_num + k_col_num - 1\n",
    "print('Dimension of output signal is: ', output_row_num, output_col_num)"
   ]
  },
  {
   "cell_type": "code",
   "execution_count": 3,
   "metadata": {},
   "outputs": [
    {
     "name": "stdout",
     "output_type": "stream",
     "text": [
      "Zero-padded filter matrix:  [[0.     0.     0.     ... 0.     0.     0.    ]\n",
      " [0.     0.     0.     ... 0.     0.     0.    ]\n",
      " [0.     0.     0.     ... 0.     0.     0.    ]\n",
      " ...\n",
      " [0.0625 0.125  0.0625 ... 0.     0.     0.    ]\n",
      " [0.125  0.25   0.125  ... 0.     0.     0.    ]\n",
      " [0.0625 0.125  0.0625 ... 0.     0.     0.    ]]\n"
     ]
    }
   ],
   "source": [
    "#zero-padding of filter matrix\n",
    "\n",
    "k_zero_padded = np.pad(kernel, ((output_row_num - k_row_num, 0),\n",
    "          (0, output_col_num - k_col_num)),\n",
    "      'constant', constant_values = 0)\n",
    "print('Zero-padded filter matrix: ', k_zero_padded)"
   ]
  },
  {
   "cell_type": "code",
   "execution_count": 4,
   "metadata": {},
   "outputs": [],
   "source": [
    "#toeplitz matrix for each row of the zero padded filter\n",
    "\n",
    "from scipy.linalg import toeplitz\n",
    "\n",
    "toeplitz_list = []\n",
    "\n",
    "for i in range(k_zero_padded.shape[0] - 1, -1, -1):\n",
    "    c = k_zero_padded[i, : ]\n",
    "    r = np.r_[c[0], np.zeros(i_col_num - 1)]\n",
    "    toeplitz_m = toeplitz(c, r)\n",
    "    toeplitz_list.append(toeplitz_m)\n",
    "    #print('Kernel '+ str(i)+'\\n', toeplitz_m)"
   ]
  },
  {
   "cell_type": "code",
   "execution_count": 5,
   "metadata": {},
   "outputs": [
    {
     "name": "stdout",
     "output_type": "stream",
     "text": [
      "Doubly indices \n",
      " [[  1   0   0 ...   0   0   0]\n",
      " [  2   1   0 ...   0   0   0]\n",
      " [  3   2   1 ...   0   0   0]\n",
      " ...\n",
      " [512 511 510 ...   3   2   1]\n",
      " [513 512 511 ...   4   3   2]\n",
      " [514 513 512 ...   5   4   3]]\n"
     ]
    }
   ],
   "source": [
    "# doubly blocked toeplitz indices\n",
    "\n",
    "c = range(1, k_zero_padded.shape[0] + 1)\n",
    "r = np.r_[c[0], np.zeros(i_row_num - 1, dtype = int)]\n",
    "doubly_indices = toeplitz(c, r)\n",
    "print('Doubly indices \\n', doubly_indices)"
   ]
  },
  {
   "cell_type": "code",
   "execution_count": 6,
   "metadata": {},
   "outputs": [
    {
     "ename": "MemoryError",
     "evalue": "Unable to allocate 64.5 GiB for an array with shape (264196, 262144) and data type uint8",
     "output_type": "error",
     "traceback": [
      "\u001b[1;31m---------------------------------------------------------------------------\u001b[0m",
      "\u001b[1;31mMemoryError\u001b[0m                               Traceback (most recent call last)",
      "\u001b[1;32m<ipython-input-6-cdcd3705e074>\u001b[0m in \u001b[0;36m<module>\u001b[1;34m\u001b[0m\n\u001b[0;32m      6\u001b[0m \u001b[0mw\u001b[0m \u001b[1;33m=\u001b[0m \u001b[0mtoeplitz_shape\u001b[0m\u001b[1;33m[\u001b[0m\u001b[1;36m1\u001b[0m\u001b[1;33m]\u001b[0m \u001b[1;33m*\u001b[0m \u001b[0mdoubly_indices\u001b[0m\u001b[1;33m.\u001b[0m\u001b[0mshape\u001b[0m\u001b[1;33m[\u001b[0m\u001b[1;36m1\u001b[0m\u001b[1;33m]\u001b[0m\u001b[1;33m\u001b[0m\u001b[1;33m\u001b[0m\u001b[0m\n\u001b[0;32m      7\u001b[0m \u001b[0mdoubly_blocked_shape\u001b[0m \u001b[1;33m=\u001b[0m \u001b[1;33m[\u001b[0m\u001b[0mh\u001b[0m\u001b[1;33m,\u001b[0m \u001b[0mw\u001b[0m\u001b[1;33m]\u001b[0m\u001b[1;33m\u001b[0m\u001b[1;33m\u001b[0m\u001b[0m\n\u001b[1;32m----> 8\u001b[1;33m \u001b[0mdoubly_blocked\u001b[0m \u001b[1;33m=\u001b[0m \u001b[0mnp\u001b[0m\u001b[1;33m.\u001b[0m\u001b[0mzeros\u001b[0m\u001b[1;33m(\u001b[0m\u001b[0mdoubly_blocked_shape\u001b[0m\u001b[1;33m,\u001b[0m \u001b[0mdtype\u001b[0m\u001b[1;33m=\u001b[0m\u001b[1;34m'uint8'\u001b[0m\u001b[1;33m)\u001b[0m\u001b[1;33m\u001b[0m\u001b[1;33m\u001b[0m\u001b[0m\n\u001b[0m\u001b[0;32m      9\u001b[0m \u001b[1;33m\u001b[0m\u001b[0m\n\u001b[0;32m     10\u001b[0m \u001b[0mb_h\u001b[0m\u001b[1;33m,\u001b[0m \u001b[0mb_w\u001b[0m \u001b[1;33m=\u001b[0m \u001b[0mtoeplitz_shape\u001b[0m\u001b[1;33m\u001b[0m\u001b[1;33m\u001b[0m\u001b[0m\n",
      "\u001b[1;31mMemoryError\u001b[0m: Unable to allocate 64.5 GiB for an array with shape (264196, 262144) and data type uint8"
     ]
    }
   ],
   "source": [
    "# creat doubly blocked matrix with zero values\n",
    "\n",
    "\n",
    "toeplitz_shape = toeplitz_list[0].shape\n",
    "h = toeplitz_shape[0] * doubly_indices.shape[0]\n",
    "w = toeplitz_shape[1] * doubly_indices.shape[1]\n",
    "doubly_blocked_shape = [h, w]\n",
    "doubly_blocked = np.zeros(doubly_blocked_shape, dtype='uint8')\n",
    "\n",
    "b_h, b_w = toeplitz_shape\n",
    "for i in range(doubly_indices.shape[0]):\n",
    "    for j in range(doubly_indices.shape[1]):\n",
    "        start_i = i * b_h\n",
    "        start_j = j * b_w\n",
    "        end_i = start_i + b_h\n",
    "        end_j = start_j + b_w\n",
    "        doubly_blocked[start_i : end_i, start_j : end_j] = toeplitz_list[doubly_indices[i, j] - 1]\n",
    "        \n",
    "#print('Doubly_blocked', doubly_blocked)"
   ]
  },
  {
   "cell_type": "code",
   "execution_count": 7,
   "metadata": {},
   "outputs": [],
   "source": [
    "#Converting input matrix to a vector\n",
    "\n",
    "def matrix_to_vector(inp):\n",
    "    input_h, input_w = inp.shape\n",
    "    output_vector = np.zeros(input_h*input_w, dtype=inp.dtype)\n",
    "    # flip the input matrix up-down because last row should go first\n",
    "    inp = np.flipud(inp) \n",
    "    for i,row in enumerate(inp):\n",
    "        st = i*input_w\n",
    "        nd = st + input_w\n",
    "        output_vector[st:nd] = row\n",
    "        \n",
    "    return output_vector"
   ]
  },
  {
   "cell_type": "code",
   "execution_count": 9,
   "metadata": {},
   "outputs": [
    {
     "name": "stdout",
     "output_type": "stream",
     "text": [
      "vectorized_input:  [ 34  34  41 ... 144 132 101]\n"
     ]
    }
   ],
   "source": [
    "# call the function\n",
    "\n",
    "vectorized_i = matrix_to_vector(ar)\n",
    "print('vectorized_input: ', vectorized_i)"
   ]
  },
  {
   "cell_type": "code",
   "execution_count": 12,
   "metadata": {},
   "outputs": [
    {
     "ename": "NameError",
     "evalue": "name 'doubly_blocked' is not defined",
     "output_type": "error",
     "traceback": [
      "\u001b[1;31m---------------------------------------------------------------------------\u001b[0m",
      "\u001b[1;31mNameError\u001b[0m                                 Traceback (most recent call last)",
      "\u001b[1;32m<ipython-input-12-e7b1c1896029>\u001b[0m in \u001b[0;36m<module>\u001b[1;34m\u001b[0m\n\u001b[0;32m      1\u001b[0m \u001b[1;31m# get result of the convolution by matrix mupltiplication\u001b[0m\u001b[1;33m\u001b[0m\u001b[1;33m\u001b[0m\u001b[1;33m\u001b[0m\u001b[0m\n\u001b[0;32m      2\u001b[0m \u001b[1;33m\u001b[0m\u001b[0m\n\u001b[1;32m----> 3\u001b[1;33m \u001b[0mresult_vector\u001b[0m \u001b[1;33m=\u001b[0m \u001b[0mnp\u001b[0m\u001b[1;33m.\u001b[0m\u001b[0mmatmul\u001b[0m\u001b[1;33m(\u001b[0m\u001b[0mdoubly_blocked\u001b[0m\u001b[1;33m,\u001b[0m \u001b[0mvectorized_i\u001b[0m\u001b[1;33m)\u001b[0m\u001b[1;33m\u001b[0m\u001b[1;33m\u001b[0m\u001b[0m\n\u001b[0m\u001b[0;32m      4\u001b[0m \u001b[0mprint\u001b[0m\u001b[1;33m(\u001b[0m\u001b[1;34m'result_vector: '\u001b[0m\u001b[1;33m,\u001b[0m \u001b[0mresult_vector\u001b[0m\u001b[1;33m)\u001b[0m\u001b[1;33m\u001b[0m\u001b[1;33m\u001b[0m\u001b[0m\n",
      "\u001b[1;31mNameError\u001b[0m: name 'doubly_blocked' is not defined"
     ]
    }
   ],
   "source": [
    "# get result of the convolution by matrix mupltiplication\n",
    "\n",
    "result_vector = np.matmul(doubly_blocked, vectorized_i)\n",
    "print('result_vector: ', result_vector)"
   ]
  },
  {
   "cell_type": "code",
   "execution_count": 13,
   "metadata": {},
   "outputs": [],
   "source": [
    "#reshape the result to a matrix form\n",
    "\n",
    "def vector_to_matrix(inp, output_shape):\n",
    "    output_h, output_w = output_shape\n",
    "    output = np.zeros(output_shape, dtype=inp.dtype)\n",
    "    for i in range(output_h):\n",
    "        st = i*output_w\n",
    "        nd = st + output_w\n",
    "        output[i, :] = inp[st:nd]\n",
    "    # flip the output matrix up-down to get correct result\n",
    "    output=np.flipud(output)\n",
    "    return output"
   ]
  },
  {
   "cell_type": "code",
   "execution_count": 14,
   "metadata": {},
   "outputs": [
    {
     "ename": "NameError",
     "evalue": "name 'result_vector' is not defined",
     "output_type": "error",
     "traceback": [
      "\u001b[1;31m---------------------------------------------------------------------------\u001b[0m",
      "\u001b[1;31mNameError\u001b[0m                                 Traceback (most recent call last)",
      "\u001b[1;32m<ipython-input-14-2f4b5fc9584f>\u001b[0m in \u001b[0;36m<module>\u001b[1;34m\u001b[0m\n\u001b[0;32m      1\u001b[0m \u001b[1;31m# reshape the raw rsult to desired matrix form\u001b[0m\u001b[1;33m\u001b[0m\u001b[1;33m\u001b[0m\u001b[1;33m\u001b[0m\u001b[0m\n\u001b[0;32m      2\u001b[0m \u001b[0mout_shape\u001b[0m \u001b[1;33m=\u001b[0m \u001b[1;33m[\u001b[0m\u001b[0moutput_row_num\u001b[0m\u001b[1;33m,\u001b[0m \u001b[0moutput_col_num\u001b[0m\u001b[1;33m]\u001b[0m\u001b[1;33m\u001b[0m\u001b[1;33m\u001b[0m\u001b[0m\n\u001b[1;32m----> 3\u001b[1;33m \u001b[0mmy_output\u001b[0m \u001b[1;33m=\u001b[0m \u001b[0mvector_to_matrix\u001b[0m\u001b[1;33m(\u001b[0m\u001b[0mresult_vector\u001b[0m\u001b[1;33m,\u001b[0m \u001b[0mout_shape\u001b[0m\u001b[1;33m)\u001b[0m\u001b[1;33m\u001b[0m\u001b[1;33m\u001b[0m\u001b[0m\n\u001b[0m\u001b[0;32m      4\u001b[0m \u001b[1;33m\u001b[0m\u001b[0m\n\u001b[0;32m      5\u001b[0m \u001b[0mprint\u001b[0m\u001b[1;33m(\u001b[0m\u001b[1;34m'Result of implemented method: \\n'\u001b[0m\u001b[1;33m,\u001b[0m \u001b[0mmy_output\u001b[0m\u001b[1;33m)\u001b[0m\u001b[1;33m\u001b[0m\u001b[1;33m\u001b[0m\u001b[0m\n",
      "\u001b[1;31mNameError\u001b[0m: name 'result_vector' is not defined"
     ]
    }
   ],
   "source": [
    "# reshape the raw rsult to desired matrix form\n",
    "out_shape = [output_row_num, output_col_num]\n",
    "my_output = vector_to_matrix(result_vector, out_shape)\n",
    "\n",
    "print('Result of implemented method: \\n', my_output)"
   ]
  },
  {
   "cell_type": "code",
   "execution_count": null,
   "metadata": {},
   "outputs": [],
   "source": []
  }
 ],
 "metadata": {
  "kernelspec": {
   "display_name": "Python 3",
   "language": "python",
   "name": "python3"
  },
  "language_info": {
   "codemirror_mode": {
    "name": "ipython",
    "version": 3
   },
   "file_extension": ".py",
   "mimetype": "text/x-python",
   "name": "python",
   "nbconvert_exporter": "python",
   "pygments_lexer": "ipython3",
   "version": "3.9.0"
  }
 },
 "nbformat": 4,
 "nbformat_minor": 4
}
