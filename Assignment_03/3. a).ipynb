{
 "cells": [
  {
   "cell_type": "markdown",
   "metadata": {},
   "source": [
    "### (a) Write python from scratch for 2D Circular convolution using  Doubly Block Circulant matrices method between input=np.array([[1,2,3],[4,5,6],[7,8,9]])and filter=np.array([[1,2,1],[0,0,0],[-1,-2,-1]])"
   ]
  },
  {
   "cell_type": "code",
   "execution_count": 102,
   "metadata": {},
   "outputs": [
    {
     "name": "stdout",
     "output_type": "stream",
     "text": [
      "Shape of I is:  (3, 3)\n",
      "[[1 2 3]\n",
      " [4 5 6]\n",
      " [7 8 9]]\n",
      "Shape of F is:  (3, 3)\n",
      "[[ 1  2  1]\n",
      " [ 0  0  0]\n",
      " [-1 -2 -1]]\n"
     ]
    }
   ],
   "source": [
    "import numpy as np\n",
    "\n",
    "#input signal\n",
    "\n",
    "I = np.array([[1, 2, 3], [4, 5, 6], [7, 8, 9]])\n",
    "print('Shape of I is: ', I.shape)\n",
    "print(I)\n",
    "\n",
    "#filter\n",
    "\n",
    "F = np.array([[1, 2, 1], [0, 0, 0], [-1, -2, -1]])\n",
    "print('Shape of F is: ', F.shape)\n",
    "print(F)"
   ]
  },
  {
   "cell_type": "code",
   "execution_count": 103,
   "metadata": {},
   "outputs": [
    {
     "name": "stdout",
     "output_type": "stream",
     "text": [
      "Dimension of output signal is:  3 3\n"
     ]
    }
   ],
   "source": [
    "#Calculating final output size\n",
    "\n",
    "#Number of rows and columns in input matrix\n",
    "input_row, input_col = I.shape\n",
    "\n",
    "#Number of rows and columns in filter matrix\n",
    "filter_row, filter_col = F.shape\n",
    "\n",
    "#Calculating dimensions of output matrix\n",
    "output_row = max(input_row, filter_row)\n",
    "output_col = max(input_col, filter_col)\n",
    "print('Dimension of output signal is: ', output_row, output_col)"
   ]
  },
  {
   "cell_type": "code",
   "execution_count": 104,
   "metadata": {},
   "outputs": [],
   "source": [
    "toeplitz_mat = np.zeros((3,3,3))"
   ]
  },
  {
   "cell_type": "code",
   "execution_count": 105,
   "metadata": {},
   "outputs": [],
   "source": [
    "def toep(k):\n",
    "    for i in range(3):\n",
    "        toeplitz_mat[k][i][0] = F[k][i]\n",
    "    for i in range(3):\n",
    "        for j in range(1,3):\n",
    "            if i-1<0:\n",
    "                toeplitz_mat[k][i][j] = toeplitz_mat[k][2][j-1]\n",
    "            else:\n",
    "                toeplitz_mat[k][i][j] = toeplitz_mat[k][i-1][j-1]"
   ]
  },
  {
   "cell_type": "code",
   "execution_count": 106,
   "metadata": {},
   "outputs": [],
   "source": [
    "for i in range(3):\n",
    "    toep(i)"
   ]
  },
  {
   "cell_type": "code",
   "execution_count": 107,
   "metadata": {},
   "outputs": [
    {
     "name": "stdout",
     "output_type": "stream",
     "text": [
      "[[[-1. -1. -2.]\n",
      "  [-2. -1. -1.]\n",
      "  [-1. -2. -1.]]\n",
      "\n",
      " [[ 0.  0.  0.]\n",
      "  [ 0.  0.  0.]\n",
      "  [ 0.  0.  0.]]\n",
      "\n",
      " [[ 1.  1.  2.]\n",
      "  [ 2.  1.  1.]\n",
      "  [ 1.  2.  1.]]]\n"
     ]
    }
   ],
   "source": [
    "#toeplitz_mat1 = np.flip(toeplitz_mat, 0)\n",
    "print(toeplitz_mat1)"
   ]
  },
  {
   "cell_type": "code",
   "execution_count": 92,
   "metadata": {},
   "outputs": [],
   "source": [
    "k = np.zeros((3,3))"
   ]
  },
  {
   "cell_type": "code",
   "execution_count": 93,
   "metadata": {},
   "outputs": [],
   "source": [
    "def toep_ind():\n",
    "    for i in range(3):\n",
    "        k[i][0] = i\n",
    "    for j in range(1,3):\n",
    "        for i in range(3):\n",
    "            if i-1<0:\n",
    "                k[i][j] = k[2][j-1]\n",
    "            else:\n",
    "                k[i][j] = k[i-1][j-1]"
   ]
  },
  {
   "cell_type": "code",
   "execution_count": 94,
   "metadata": {},
   "outputs": [
    {
     "name": "stdout",
     "output_type": "stream",
     "text": [
      "[[0. 2. 1.]\n",
      " [1. 0. 2.]\n",
      " [2. 1. 0.]]\n"
     ]
    }
   ],
   "source": [
    "toep_ind()\n",
    "print(k)"
   ]
  },
  {
   "cell_type": "code",
   "execution_count": 95,
   "metadata": {},
   "outputs": [],
   "source": [
    "h_mat = np.zeros((9,9))"
   ]
  },
  {
   "cell_type": "code",
   "execution_count": 96,
   "metadata": {},
   "outputs": [],
   "source": [
    "def mat_add(l,m,n):\n",
    "    for i in range(3):\n",
    "        for j in range(3):\n",
    "            row = m+i\n",
    "            col = n+j\n",
    "            h_mat[row][col] = toeplitz_mat1[l][i][j]"
   ]
  },
  {
   "cell_type": "code",
   "execution_count": 97,
   "metadata": {},
   "outputs": [],
   "source": [
    "for j in range(3):\n",
    "    for i in range(3):\n",
    "        mat_add(int(k[i][j]),3*i,3*j)"
   ]
  },
  {
   "cell_type": "code",
   "execution_count": 98,
   "metadata": {},
   "outputs": [
    {
     "name": "stdout",
     "output_type": "stream",
     "text": [
      "[[-1. -1. -2.  1.  1.  2.  0.  0.  0.]\n",
      " [-2. -1. -1.  2.  1.  1.  0.  0.  0.]\n",
      " [-1. -2. -1.  1.  2.  1.  0.  0.  0.]\n",
      " [ 0.  0.  0. -1. -1. -2.  1.  1.  2.]\n",
      " [ 0.  0.  0. -2. -1. -1.  2.  1.  1.]\n",
      " [ 0.  0.  0. -1. -2. -1.  1.  2.  1.]\n",
      " [ 1.  1.  2.  0.  0.  0. -1. -1. -2.]\n",
      " [ 2.  1.  1.  0.  0.  0. -2. -1. -1.]\n",
      " [ 1.  2.  1.  0.  0.  0. -1. -2. -1.]]\n"
     ]
    }
   ],
   "source": [
    "print(h_mat)"
   ]
  },
  {
   "cell_type": "code",
   "execution_count": 99,
   "metadata": {},
   "outputs": [
    {
     "name": "stdout",
     "output_type": "stream",
     "text": [
      "[[1]\n",
      " [2]\n",
      " [3]\n",
      " [4]\n",
      " [5]\n",
      " [6]\n",
      " [7]\n",
      " [8]\n",
      " [9]]\n"
     ]
    }
   ],
   "source": [
    "inp_vec = I.reshape((9,1))\n",
    "print(inp_vec)"
   ]
  },
  {
   "cell_type": "code",
   "execution_count": 100,
   "metadata": {},
   "outputs": [],
   "source": [
    "result = np.dot(h_mat,inp_vec)\n",
    "result = result.reshape((3,3))"
   ]
  },
  {
   "cell_type": "code",
   "execution_count": 101,
   "metadata": {},
   "outputs": [
    {
     "name": "stdout",
     "output_type": "stream",
     "text": [
      "[[-12. -12. -12.]\n",
      " [-12. -12. -12.]\n",
      " [ 24.  24.  24.]]\n"
     ]
    }
   ],
   "source": [
    "print((-1) * result)"
   ]
  },
  {
   "cell_type": "code",
   "execution_count": null,
   "metadata": {},
   "outputs": [],
   "source": []
  }
 ],
 "metadata": {
  "kernelspec": {
   "display_name": "Python 3",
   "language": "python",
   "name": "python3"
  },
  "language_info": {
   "codemirror_mode": {
    "name": "ipython",
    "version": 3
   },
   "file_extension": ".py",
   "mimetype": "text/x-python",
   "name": "python",
   "nbconvert_exporter": "python",
   "pygments_lexer": "ipython3",
   "version": "3.9.0"
  }
 },
 "nbformat": 4,
 "nbformat_minor": 4
}
