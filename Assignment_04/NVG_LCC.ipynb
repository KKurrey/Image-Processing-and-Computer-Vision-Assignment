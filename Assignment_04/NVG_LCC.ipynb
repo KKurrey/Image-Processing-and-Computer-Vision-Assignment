{
 "cells": [
  {
   "cell_type": "code",
   "execution_count": 4,
   "metadata": {},
   "outputs": [
    {
     "ename": "ValueError",
     "evalue": "operands could not be broadcast together with shapes (347,467) (467,467) ",
     "output_type": "error",
     "traceback": [
      "\u001b[1;31m---------------------------------------------------------------------------\u001b[0m",
      "\u001b[1;31mValueError\u001b[0m                                Traceback (most recent call last)",
      "\u001b[1;32m<ipython-input-4-3bf575dcb993>\u001b[0m in \u001b[0;36m<module>\u001b[1;34m\u001b[0m\n\u001b[0;32m     29\u001b[0m \u001b[1;33m\u001b[0m\u001b[0m\n\u001b[0;32m     30\u001b[0m \u001b[1;31m#taking convolution of dft of gausian kernel and dft of inv img\u001b[0m\u001b[1;33m\u001b[0m\u001b[1;33m\u001b[0m\u001b[1;33m\u001b[0m\u001b[0m\n\u001b[1;32m---> 31\u001b[1;33m \u001b[0mdft_I_conv\u001b[0m \u001b[1;33m=\u001b[0m \u001b[0mdft_Inv\u001b[0m\u001b[1;33m*\u001b[0m\u001b[0mdft_gauss_kernel\u001b[0m\u001b[1;33m\u001b[0m\u001b[1;33m\u001b[0m\u001b[0m\n\u001b[0m\u001b[0;32m     32\u001b[0m \u001b[1;33m\u001b[0m\u001b[0m\n\u001b[0;32m     33\u001b[0m \u001b[1;31m#inverse dft\u001b[0m\u001b[1;33m\u001b[0m\u001b[1;33m\u001b[0m\u001b[1;33m\u001b[0m\u001b[0m\n",
      "\u001b[1;31mValueError\u001b[0m: operands could not be broadcast together with shapes (347,467) (467,467) "
     ]
    }
   ],
   "source": [
    "import cv2\n",
    "import numpy as np\n",
    "import matplotlib.pyplot as plt\n",
    "\n",
    "#reading image\n",
    "img=cv2.imread('input_1.png')\n",
    "#taking mean of rgb\n",
    "I=np.mean(img,2)\n",
    "#taking inverese of img\n",
    "Inv=255-I\n",
    "sigma=2\n",
    "#calc dft of inverse of img\n",
    "dft_Inv=np.fft.fft2(Inv)\n",
    "\n",
    "#Gausian kernel\n",
    "\n",
    "nr=np.int((I.shape[1]/2))\n",
    "Nr1=np.linspace(0,nr,nr+1)\n",
    "Nr2=np.linspace(-nr,-1,nr)\n",
    "Nr=np.append(Nr1, Nr2)\n",
    "\n",
    "nc=np.int((I.shape[0]/2))\n",
    "Nc1=np.linspace(0,nc,nc+1)\n",
    "Nc2=np.linspace(-nc,-1,nc)\n",
    "Nc=np.append(Nr1, Nr2)\n",
    "\n",
    "NC,NR=np.meshgrid(Nr,Nc)\n",
    "dft_gauss_kernel=np.exp(-2*(sigma*np.pi)**2*((NR/(I.shape[0]/2))**2+(NC/(I.shape[1]/2))**2))\n",
    "\n",
    "#taking convolution of dft of gausian kernel and dft of inv img\n",
    "dft_I_conv = dft_Inv*dft_gauss_kernel\n",
    "\n",
    "#inverse dft \n",
    "I_convolved=np.fft.ifft2(dft_I_conv)\n",
    "#taking its real part\n",
    "M=np.real(I_convolved)\n",
    "\n",
    "#applying the formula\n",
    "output=np.zeros(I.shape)\n",
    "for i in range (I.shape[0]):\n",
    "    for j in range (I.shape[1]):\n",
    "        output[i,j]=255*((I[i,j]/255)**(2**((128-M[i,j])/128)))\n",
    "        \n",
    "#plotting output\n",
    "plt.subplot(2,2,1)        \n",
    "plt.imshow(I,cmap='gray')\n",
    "plt.title('original')\n",
    "plt.subplot(2,2,2)  \n",
    "plt.imshow(output,cmap='gray')\n",
    "plt.title('Local color correction')\n",
    "plt.subplot(2,2,3)  \n",
    "plt.hist(I)\n",
    "plt.title('hisstogram-original')\n",
    "plt.subplot(2,2,4)  \n",
    "plt.hist(output)\n",
    "plt.title('hisstogram-output')\n",
    "plt.show()\n"
   ]
  },
  {
   "cell_type": "code",
   "execution_count": null,
   "metadata": {},
   "outputs": [],
   "source": []
  }
 ],
 "metadata": {
  "kernelspec": {
   "display_name": "Python 3",
   "language": "python",
   "name": "python3"
  },
  "language_info": {
   "codemirror_mode": {
    "name": "ipython",
    "version": 3
   },
   "file_extension": ".py",
   "mimetype": "text/x-python",
   "name": "python",
   "nbconvert_exporter": "python",
   "pygments_lexer": "ipython3",
   "version": "3.9.0"
  }
 },
 "nbformat": 4,
 "nbformat_minor": 4
}
