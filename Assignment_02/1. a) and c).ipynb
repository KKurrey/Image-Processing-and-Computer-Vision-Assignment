{
 "cells": [
  {
   "cell_type": "code",
   "execution_count": 1,
   "metadata": {},
   "outputs": [
    {
     "name": "stdout",
     "output_type": "stream",
     "text": [
      "Shape of I is:  (3, 3)\n",
      "[[1 2 3]\n",
      " [4 5 6]\n",
      " [7 8 9]]\n",
      "Shape of F is:  (3, 3)\n",
      "[[ 1  2  1]\n",
      " [ 0  0  0]\n",
      " [-1 -2 -1]]\n"
     ]
    }
   ],
   "source": [
    "import numpy as np\n",
    "\n",
    "#input signal\n",
    "\n",
    "I = np.array([[1, 2, 3], [4, 5, 6], [7, 8, 9]])\n",
    "print('Shape of I is: ', I.shape)\n",
    "print(I)\n",
    "\n",
    "#filter\n",
    "\n",
    "F = np.array([[1, 2, 1], [0, 0, 0], [-1, -2, -1]])\n",
    "print('Shape of F is: ', F.shape)\n",
    "print(F)"
   ]
  },
  {
   "cell_type": "code",
   "execution_count": 2,
   "metadata": {},
   "outputs": [
    {
     "name": "stdout",
     "output_type": "stream",
     "text": [
      "Dimension of output signal is:  5 5\n"
     ]
    }
   ],
   "source": [
    "#Calculating final output size\n",
    "\n",
    "#Number of rows and columns in input matrix\n",
    "input_row, input_col = I.shape\n",
    "\n",
    "#Number of rows and columns in filter matrix\n",
    "filter_row, filter_col = F.shape\n",
    "\n",
    "#Calculating dimensions of output matrix\n",
    "output_row = input_row + filter_row - 1\n",
    "output_col = input_col + filter_col - 1\n",
    "print('Dimension of output signal is: ', output_row, output_col)"
   ]
  },
  {
   "cell_type": "code",
   "execution_count": 15,
   "metadata": {},
   "outputs": [
    {
     "name": "stdout",
     "output_type": "stream",
     "text": [
      "Zero-padded filter matrix: \n",
      " [[ 0  0  0  0  0]\n",
      " [ 0  0  0  0  0]\n",
      " [ 1  2  1  0  0]\n",
      " [ 0  0  0  0  0]\n",
      " [-1 -2 -1  0  0]]\n"
     ]
    },
    {
     "data": {
      "text/plain": [
       "5"
      ]
     },
     "execution_count": 15,
     "metadata": {},
     "output_type": "execute_result"
    }
   ],
   "source": [
    "#zero-padding of filter matrix\n",
    "\n",
    "filter_zero = np.pad(F, ((output_row - filter_row, 0),\n",
    "          (0, output_col - filter_col)),\n",
    "      'constant', constant_values = 0)\n",
    "print('Zero-padded filter matrix: \\n', filter_zero)\n",
    "filter_zero.shape[0]"
   ]
  },
  {
   "cell_type": "code",
   "execution_count": 6,
   "metadata": {},
   "outputs": [],
   "source": [
    "toeplitz_mat = np.zeros((5,5,3))"
   ]
  },
  {
   "cell_type": "code",
   "execution_count": 10,
   "metadata": {},
   "outputs": [],
   "source": [
    "def toep(k):\n",
    "    for i in range(5):\n",
    "        toeplitz_mat[k][i][0] = filter_zero[k][i]\n",
    "    for i in range(5):\n",
    "        for j in range(1,3):\n",
    "            if i-1<0:\n",
    "                toeplitz_mat[k][i][j] = toeplitz_mat[k][4][j-1]\n",
    "            else:\n",
    "                toeplitz_mat[k][i][j] = toeplitz_mat[k][i-1][j-1]"
   ]
  },
  {
   "cell_type": "code",
   "execution_count": 11,
   "metadata": {},
   "outputs": [],
   "source": [
    "for i in range(5):\n",
    "    toep(i)"
   ]
  },
  {
   "cell_type": "code",
   "execution_count": 42,
   "metadata": {},
   "outputs": [
    {
     "name": "stdout",
     "output_type": "stream",
     "text": [
      "[[[-1.  0.  0.]\n",
      "  [-2. -1.  0.]\n",
      "  [-1. -2. -1.]\n",
      "  [ 0. -1. -2.]\n",
      "  [ 0.  0. -1.]]\n",
      "\n",
      " [[ 0.  0.  0.]\n",
      "  [ 0.  0.  0.]\n",
      "  [ 0.  0.  0.]\n",
      "  [ 0.  0.  0.]\n",
      "  [ 0.  0.  0.]]\n",
      "\n",
      " [[ 1.  0.  0.]\n",
      "  [ 2.  1.  0.]\n",
      "  [ 1.  2.  1.]\n",
      "  [ 0.  1.  2.]\n",
      "  [ 0.  0.  1.]]\n",
      "\n",
      " [[ 0.  0.  0.]\n",
      "  [ 0.  0.  0.]\n",
      "  [ 0.  0.  0.]\n",
      "  [ 0.  0.  0.]\n",
      "  [ 0.  0.  0.]]\n",
      "\n",
      " [[ 0.  0.  0.]\n",
      "  [ 0.  0.  0.]\n",
      "  [ 0.  0.  0.]\n",
      "  [ 0.  0.  0.]\n",
      "  [ 0.  0.  0.]]]\n"
     ]
    }
   ],
   "source": [
    "toeplitz_mat1 = np.flip(toeplitz_mat, 0)\n",
    "print(toeplitz_mat1)"
   ]
  },
  {
   "cell_type": "code",
   "execution_count": 43,
   "metadata": {},
   "outputs": [],
   "source": [
    "k = np.zeros((5,3))"
   ]
  },
  {
   "cell_type": "code",
   "execution_count": 44,
   "metadata": {},
   "outputs": [],
   "source": [
    "def toep_ind():\n",
    "    for i in range(5):\n",
    "        k[i][0] = i\n",
    "    for j in range(1,3):\n",
    "        for i in range(5):\n",
    "            if i-1<0:\n",
    "                k[i][j] = k[4][j-1]\n",
    "            else:\n",
    "                k[i][j] = k[i-1][j-1]"
   ]
  },
  {
   "cell_type": "code",
   "execution_count": 45,
   "metadata": {},
   "outputs": [
    {
     "name": "stdout",
     "output_type": "stream",
     "text": [
      "[[0. 4. 3.]\n",
      " [1. 0. 4.]\n",
      " [2. 1. 0.]\n",
      " [3. 2. 1.]\n",
      " [4. 3. 2.]]\n"
     ]
    }
   ],
   "source": [
    "toep_ind()\n",
    "print(k)"
   ]
  },
  {
   "cell_type": "code",
   "execution_count": 46,
   "metadata": {},
   "outputs": [],
   "source": [
    "h_mat = np.zeros((25,9))"
   ]
  },
  {
   "cell_type": "code",
   "execution_count": 47,
   "metadata": {},
   "outputs": [],
   "source": [
    "def mat_add(l,m,n):\n",
    "    for i in range(5):\n",
    "        for j in range(3):\n",
    "            row = m+i\n",
    "            col = n+j\n",
    "            h_mat[row][col] = toeplitz_mat1[l][i][j]"
   ]
  },
  {
   "cell_type": "code",
   "execution_count": 48,
   "metadata": {},
   "outputs": [],
   "source": [
    "for j in range(3):\n",
    "    for i in range(5):\n",
    "        mat_add(int(k[i][j]),5*i,3*j)"
   ]
  },
  {
   "cell_type": "code",
   "execution_count": 49,
   "metadata": {},
   "outputs": [
    {
     "name": "stdout",
     "output_type": "stream",
     "text": [
      "[[-1.  0.  0.  0.  0.  0.  0.  0.  0.]\n",
      " [-2. -1.  0.  0.  0.  0.  0.  0.  0.]\n",
      " [-1. -2. -1.  0.  0.  0.  0.  0.  0.]\n",
      " [ 0. -1. -2.  0.  0.  0.  0.  0.  0.]\n",
      " [ 0.  0. -1.  0.  0.  0.  0.  0.  0.]\n",
      " [ 0.  0.  0. -1.  0.  0.  0.  0.  0.]\n",
      " [ 0.  0.  0. -2. -1.  0.  0.  0.  0.]\n",
      " [ 0.  0.  0. -1. -2. -1.  0.  0.  0.]\n",
      " [ 0.  0.  0.  0. -1. -2.  0.  0.  0.]\n",
      " [ 0.  0.  0.  0.  0. -1.  0.  0.  0.]\n",
      " [ 1.  0.  0.  0.  0.  0. -1.  0.  0.]\n",
      " [ 2.  1.  0.  0.  0.  0. -2. -1.  0.]\n",
      " [ 1.  2.  1.  0.  0.  0. -1. -2. -1.]\n",
      " [ 0.  1.  2.  0.  0.  0.  0. -1. -2.]\n",
      " [ 0.  0.  1.  0.  0.  0.  0.  0. -1.]\n",
      " [ 0.  0.  0.  1.  0.  0.  0.  0.  0.]\n",
      " [ 0.  0.  0.  2.  1.  0.  0.  0.  0.]\n",
      " [ 0.  0.  0.  1.  2.  1.  0.  0.  0.]\n",
      " [ 0.  0.  0.  0.  1.  2.  0.  0.  0.]\n",
      " [ 0.  0.  0.  0.  0.  1.  0.  0.  0.]\n",
      " [ 0.  0.  0.  0.  0.  0.  1.  0.  0.]\n",
      " [ 0.  0.  0.  0.  0.  0.  2.  1.  0.]\n",
      " [ 0.  0.  0.  0.  0.  0.  1.  2.  1.]\n",
      " [ 0.  0.  0.  0.  0.  0.  0.  1.  2.]\n",
      " [ 0.  0.  0.  0.  0.  0.  0.  0.  1.]]\n"
     ]
    }
   ],
   "source": [
    "print(h_mat)"
   ]
  },
  {
   "cell_type": "code",
   "execution_count": 50,
   "metadata": {},
   "outputs": [
    {
     "name": "stdout",
     "output_type": "stream",
     "text": [
      "[[1]\n",
      " [2]\n",
      " [3]\n",
      " [4]\n",
      " [5]\n",
      " [6]\n",
      " [7]\n",
      " [8]\n",
      " [9]]\n"
     ]
    }
   ],
   "source": [
    "inp_vec = I.reshape((9,1))\n",
    "print(inp_vec)"
   ]
  },
  {
   "cell_type": "code",
   "execution_count": 51,
   "metadata": {},
   "outputs": [],
   "source": [
    "result = np.dot(h_mat,inp_vec)\n",
    "result = result.reshape((5,5))"
   ]
  },
  {
   "cell_type": "code",
   "execution_count": 53,
   "metadata": {},
   "outputs": [
    {
     "name": "stdout",
     "output_type": "stream",
     "text": [
      "[[  1.   4.   8.   8.   3.]\n",
      " [  4.  13.  20.  17.   6.]\n",
      " [  6.  18.  24.  18.   6.]\n",
      " [ -4. -13. -20. -17.  -6.]\n",
      " [ -7. -22. -32. -26.  -9.]]\n"
     ]
    }
   ],
   "source": [
    "print((-1) * result)"
   ]
  },
  {
   "cell_type": "markdown",
   "metadata": {},
   "source": [
    "### (c) Compute number of multiplications required for 2D  linear convolution convolution"
   ]
  },
  {
   "cell_type": "code",
   "execution_count": 54,
   "metadata": {},
   "outputs": [
    {
     "name": "stdout",
     "output_type": "stream",
     "text": [
      "Total no. of Multiplications :  2359296\n"
     ]
    }
   ],
   "source": [
    "print(\"Total no. of Multiplications :  \" + str(512*512*3*3))"
   ]
  },
  {
   "cell_type": "code",
   "execution_count": null,
   "metadata": {},
   "outputs": [],
   "source": []
  }
 ],
 "metadata": {
  "kernelspec": {
   "display_name": "Python 3",
   "language": "python",
   "name": "python3"
  },
  "language_info": {
   "codemirror_mode": {
    "name": "ipython",
    "version": 3
   },
   "file_extension": ".py",
   "mimetype": "text/x-python",
   "name": "python",
   "nbconvert_exporter": "python",
   "pygments_lexer": "ipython3",
   "version": "3.9.0"
  }
 },
 "nbformat": 4,
 "nbformat_minor": 4
}
